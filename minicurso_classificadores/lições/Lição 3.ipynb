{
 "cells": [
  {
   "cell_type": "markdown",
   "metadata": {},
   "source": [
    "# Minicurso Classificadores\n",
    "\n",
    "## Lição 3: Otimizando os parâmetros...\n",
    "\n",
    "### Reconhecendo números de 0 a 9 escritos a mão"
   ]
  },
  {
   "cell_type": "markdown",
   "metadata": {},
   "source": [
    "#### Importando dependências e setup"
   ]
  },
  {
   "cell_type": "code",
   "execution_count": 1,
   "metadata": {},
   "outputs": [],
   "source": [
    "# Import datasets, and ML algorithms\n",
    "from sklearn import datasets, metrics\n",
    "from sklearn.model_selection import train_test_split, GridSearchCV, RandomizedSearchCV\n",
    "from sklearn.svm import SVC\n",
    "\n",
    "# Import Numeric library\n",
    "import numpy as np\n",
    "\n",
    "# Import plotting library\n",
    "import matplotlib.pyplot as plt\n",
    "\n",
    "# Set plot to be show inside the notebook\n",
    "%matplotlib inline"
   ]
  },
  {
   "cell_type": "code",
   "execution_count": 2,
   "metadata": {},
   "outputs": [],
   "source": [
    "# Set the random seed to reproducibility\n",
    "import random\n",
    "random.seed(0)"
   ]
  },
  {
   "cell_type": "markdown",
   "metadata": {},
   "source": [
    "#### Preparando os dados"
   ]
  },
  {
   "cell_type": "code",
   "execution_count": 3,
   "metadata": {},
   "outputs": [
    {
     "data": {
      "text/plain": [
       "array([[ 0.,  0.,  5., ...,  0.,  0.,  0.],\n",
       "       [ 0.,  0.,  0., ..., 10.,  0.,  0.],\n",
       "       [ 0.,  0.,  0., ..., 16.,  9.,  0.],\n",
       "       ...,\n",
       "       [ 0.,  0.,  1., ...,  6.,  0.,  0.],\n",
       "       [ 0.,  0.,  2., ..., 12.,  0.,  0.],\n",
       "       [ 0.,  0., 10., ..., 12.,  1.,  0.]])"
      ]
     },
     "execution_count": 3,
     "metadata": {},
     "output_type": "execute_result"
    }
   ],
   "source": [
    "digits = datasets.load_digits()\n",
    "\n",
    "n_samples = len(digits.images)\n",
    "\n",
    "X = digits.images.reshape((n_samples, -1))\n",
    "X"
   ]
  },
  {
   "cell_type": "code",
   "execution_count": 4,
   "metadata": {},
   "outputs": [
    {
     "data": {
      "text/plain": [
       "array([0, 1, 2, ..., 8, 9, 8])"
      ]
     },
     "execution_count": 4,
     "metadata": {},
     "output_type": "execute_result"
    }
   ],
   "source": [
    "y = digits.target\n",
    "y"
   ]
  },
  {
   "cell_type": "markdown",
   "metadata": {},
   "source": [
    "#### Afinando os parâmetros"
   ]
  },
  {
   "cell_type": "markdown",
   "metadata": {},
   "source": [
    "##### Testanto todas as combinações"
   ]
  },
  {
   "cell_type": "code",
   "execution_count": 5,
   "metadata": {
    "scrolled": true
   },
   "outputs": [
    {
     "data": {
      "text/plain": [
       "SVC(C=10, break_ties=False, cache_size=200, class_weight=None, coef0=0.0,\n",
       "    decision_function_shape='ovr', degree=3, gamma='scale', kernel='rbf',\n",
       "    max_iter=-1, probability=False, random_state=None, shrinking=True,\n",
       "    tol=0.001, verbose=False)"
      ]
     },
     "execution_count": 5,
     "metadata": {},
     "output_type": "execute_result"
    }
   ],
   "source": [
    "# Read about the parameters at: https://scikit-learn.org/stable/modules/generated/sklearn.svm.SVC.html\n",
    "svc = SVC(gamma='scale')\n",
    "\n",
    "parameters = {'kernel':('linear', 'rbf'), 'C':[1, 10]}\n",
    "clf = GridSearchCV(svc, parameters, cv=3)\n",
    "\n",
    "clf.fit(X, y)\n",
    "clf.best_estimator_"
   ]
  },
  {
   "cell_type": "code",
   "execution_count": 6,
   "metadata": {},
   "outputs": [
    {
     "data": {
      "text/plain": [
       "array([0, 1, 2, ..., 8, 9, 8])"
      ]
     },
     "execution_count": 6,
     "metadata": {},
     "output_type": "execute_result"
    }
   ],
   "source": [
    "clf.predict(X)"
   ]
  },
  {
   "cell_type": "code",
   "execution_count": 7,
   "metadata": {},
   "outputs": [
    {
     "data": {
      "text/plain": [
       "1.0"
      ]
     },
     "execution_count": 7,
     "metadata": {},
     "output_type": "execute_result"
    }
   ],
   "source": [
    "clf.score(X,y)"
   ]
  },
  {
   "cell_type": "markdown",
   "metadata": {},
   "source": [
    "##### Testanto aleatóriamente"
   ]
  },
  {
   "cell_type": "code",
   "execution_count": 8,
   "metadata": {},
   "outputs": [
    {
     "data": {
      "text/plain": [
       "SVC(C=1000, break_ties=False, cache_size=200, class_weight=None, coef0=0.0,\n",
       "    decision_function_shape='ovr', degree=3, gamma='scale', kernel='poly',\n",
       "    max_iter=-1, probability=False, random_state=None, shrinking=True,\n",
       "    tol=1e-09, verbose=False)"
      ]
     },
     "execution_count": 8,
     "metadata": {},
     "output_type": "execute_result"
    }
   ],
   "source": [
    "parameters = {\n",
    "    'kernel':('linear', 'rbf', 'poly', 'sigmoid'),\n",
    "    'C': [10**x for x in range(0,5)],\n",
    "    'gamma': ('auto', 'scale', 0.0001),\n",
    "    'tol': (1e-3, 1e-6, 1e-9), # Tolerance for stopping criterion.\n",
    "    }\n",
    "\n",
    "clf = RandomizedSearchCV(SVC(), parameters, cv=3)\n",
    "\n",
    "clf.fit(X, y)\n",
    "clf.best_estimator_"
   ]
  },
  {
   "cell_type": "code",
   "execution_count": 9,
   "metadata": {},
   "outputs": [
    {
     "data": {
      "text/plain": [
       "array([0, 1, 2, ..., 8, 9, 8])"
      ]
     },
     "execution_count": 9,
     "metadata": {},
     "output_type": "execute_result"
    }
   ],
   "source": [
    "clf.predict(X)"
   ]
  },
  {
   "cell_type": "code",
   "execution_count": 10,
   "metadata": {},
   "outputs": [
    {
     "data": {
      "text/plain": [
       "1.0"
      ]
     },
     "execution_count": 10,
     "metadata": {},
     "output_type": "execute_result"
    }
   ],
   "source": [
    "clf.score(X,y)"
   ]
  },
  {
   "cell_type": "markdown",
   "metadata": {},
   "source": [
    "#### Otimizando e Testando"
   ]
  },
  {
   "cell_type": "markdown",
   "metadata": {},
   "source": [
    "Se utilizarmos a mesma base para afinar (*tunar*) os parâmetros e avaliar estamos caindo no mesmo problema de quando usavamos a mesma base para treinar e testar."
   ]
  },
  {
   "cell_type": "markdown",
   "metadata": {},
   "source": [
    "![train_validation_test.png](https://cdn-images-1.medium.com/max/720/1*4G__SV580CxFj78o9yUXuQ.png)\n",
    "\n",
    "*(Imagem obtida em: https://towardsdatascience.com/train-test-split-and-cross-validation-in-python-80b61beca4b6)*"
   ]
  },
  {
   "cell_type": "markdown",
   "metadata": {},
   "source": [
    "##### Treinando e Validando"
   ]
  },
  {
   "cell_type": "code",
   "execution_count": 11,
   "metadata": {},
   "outputs": [
    {
     "name": "stdout",
     "output_type": "stream",
     "text": [
      "(1437, 64) (1437,)\n",
      "(360, 64) (360,)\n"
     ]
    }
   ],
   "source": [
    "X_train, X_test, y_train, y_test = train_test_split(X,\n",
    "                                                    y,\n",
    "                                                    stratify=y,\n",
    "                                                    test_size=0.20) # Valores comum: .2, .25 e .3.\n",
    "\n",
    "print(X_train.shape, y_train.shape)\n",
    "print(X_test.shape, y_test.shape)"
   ]
  },
  {
   "cell_type": "code",
   "execution_count": 12,
   "metadata": {},
   "outputs": [
    {
     "data": {
      "text/plain": [
       "SVC(C=10, break_ties=False, cache_size=200, class_weight=None, coef0=0.0,\n",
       "    decision_function_shape='ovr', degree=3, gamma='scale', kernel='rbf',\n",
       "    max_iter=-1, probability=True, random_state=None, shrinking=True, tol=0.001,\n",
       "    verbose=False)"
      ]
     },
     "execution_count": 12,
     "metadata": {},
     "output_type": "execute_result"
    }
   ],
   "source": [
    "svc = SVC(gamma='scale', probability=True)\n",
    "\n",
    "parameters = {'C':[1, 10]}\n",
    "clf = GridSearchCV(svc, parameters, cv=3, scoring='f1_macro')  # n_jobs=-1\n",
    "\n",
    "clf.fit(X_train, y_train)\n",
    "\n",
    "clf.best_estimator_"
   ]
  },
  {
   "cell_type": "code",
   "execution_count": 13,
   "metadata": {},
   "outputs": [
    {
     "data": {
      "text/plain": [
       "1.0"
      ]
     },
     "execution_count": 13,
     "metadata": {},
     "output_type": "execute_result"
    }
   ],
   "source": [
    "clf.score(X_train,y_train)"
   ]
  },
  {
   "cell_type": "markdown",
   "metadata": {},
   "source": [
    "##### Testando"
   ]
  },
  {
   "cell_type": "code",
   "execution_count": 13,
   "metadata": {
    "scrolled": true
   },
   "outputs": [
    {
     "data": {
      "text/plain": [
       "array([4, 0, 6, 0, 4, 4, 4, 7, 2, 2, 1, 1, 3, 3, 4, 3, 1, 5, 1, 1, 0, 2,\n",
       "       4, 1, 4, 5, 1, 4, 8, 3, 8, 5, 3, 7, 5, 3, 9, 2, 5, 7, 4, 2, 0, 8,\n",
       "       0, 9, 0, 9, 7, 6, 6, 7, 2, 3, 7, 7, 5, 8, 6, 6, 8, 5, 3, 1, 5, 9,\n",
       "       1, 5, 3, 7, 0, 8, 7, 2, 8, 3, 9, 2, 8, 8, 9, 3, 1, 7, 2, 7, 4, 0,\n",
       "       8, 7, 1, 9, 1, 6, 5, 1, 0, 0, 4, 2, 1, 6, 4, 8, 3, 6, 4, 6, 5, 9,\n",
       "       9, 2, 5, 0, 4, 2, 0, 7, 4, 0, 3, 9, 0, 8, 4, 9, 7, 6, 2, 1, 0, 5,\n",
       "       7, 9, 1, 0, 3, 1, 6, 9, 8, 4, 1, 6, 6, 4, 0, 1, 3, 2, 5, 2, 7, 3,\n",
       "       6, 2, 1, 7, 1, 0, 6, 7, 1, 5, 5, 4, 1, 6, 0, 8, 8, 0, 8, 7, 7, 8,\n",
       "       9, 8, 9, 2, 0, 2, 3, 6, 0, 9, 7, 6, 1, 7, 1, 4, 2, 1, 6, 1, 2, 5,\n",
       "       5, 1, 5, 5, 2, 8, 6, 5, 9, 0, 5, 3, 2, 9, 9, 0, 4, 7, 3, 7, 1, 7,\n",
       "       6, 9, 9, 5, 8, 5, 4, 3, 8, 2, 3, 8, 0, 7, 3, 3, 5, 4, 4, 4, 6, 8,\n",
       "       9, 3, 6, 0, 4, 6, 4, 6, 6, 9, 9, 1, 4, 5, 2, 2, 8, 4, 4, 5, 6, 5,\n",
       "       7, 4, 3, 3, 0, 9, 2, 4, 9, 5, 9, 5, 6, 0, 3, 8, 9, 0, 1, 5, 2, 6,\n",
       "       6, 3, 6, 7, 1, 3, 6, 9, 8, 8, 7, 5, 7, 0, 9, 2, 5, 8, 8, 0, 6, 6,\n",
       "       9, 5, 3, 8, 9, 6, 0, 9, 6, 8, 3, 7, 1, 7, 3, 5, 8, 3, 4, 1, 8, 4,\n",
       "       2, 2, 3, 5, 3, 7, 0, 9, 1, 3, 2, 0, 0, 1, 0, 8, 7, 2, 2, 7, 8, 7,\n",
       "       3, 5, 2, 2, 4, 1, 9, 4])"
      ]
     },
     "execution_count": 13,
     "metadata": {},
     "output_type": "execute_result"
    }
   ],
   "source": [
    "clf.predict(X_test)"
   ]
  },
  {
   "cell_type": "code",
   "execution_count": 14,
   "metadata": {},
   "outputs": [
    {
     "data": {
      "text/plain": [
       "array([[3.56982209e-03, 8.92419553e-04, 1.43885613e-03, ...,\n",
       "        2.70690243e-03, 1.13086194e-03, 4.94026696e-04],\n",
       "       [9.80233455e-01, 4.60541219e-04, 1.36088136e-03, ...,\n",
       "        9.24481364e-04, 1.78907844e-03, 7.85523384e-03],\n",
       "       [9.66663509e-04, 1.10965193e-02, 3.46355848e-03, ...,\n",
       "        2.32462371e-03, 3.25292571e-03, 1.93700936e-03],\n",
       "       ...,\n",
       "       [7.45776936e-04, 9.77829499e-01, 7.23602444e-04, ...,\n",
       "        1.45572379e-03, 9.17451312e-03, 2.77010430e-03],\n",
       "       [2.43875007e-03, 9.82635780e-04, 3.24468197e-03, ...,\n",
       "        3.00679941e-03, 3.76600640e-03, 9.69491843e-01],\n",
       "       [7.19736984e-04, 8.66881382e-04, 1.12586769e-03, ...,\n",
       "        3.21442627e-03, 1.04267538e-03, 3.35778971e-04]])"
      ]
     },
     "execution_count": 14,
     "metadata": {},
     "output_type": "execute_result"
    }
   ],
   "source": [
    "# For each sample the probability for each class\n",
    "probas = clf.predict_proba(X_test)\n",
    "probas"
   ]
  },
  {
   "cell_type": "code",
   "execution_count": 15,
   "metadata": {},
   "outputs": [
    {
     "data": {
      "text/plain": [
       "array([3.56982209e-03, 8.92419553e-04, 1.43885613e-03, 4.50727314e-04,\n",
       "       9.86201606e-01, 9.03912231e-04, 2.21086550e-03, 2.70690243e-03,\n",
       "       1.13086194e-03, 4.94026696e-04])"
      ]
     },
     "execution_count": 15,
     "metadata": {},
     "output_type": "execute_result"
    }
   ],
   "source": [
    "# Let's take a look at the probabilities for the 1st predict sample:\n",
    "probas[0]"
   ]
  },
  {
   "cell_type": "code",
   "execution_count": 16,
   "metadata": {},
   "outputs": [
    {
     "data": {
      "text/plain": [
       "0.9943645434249332"
      ]
     },
     "execution_count": 16,
     "metadata": {},
     "output_type": "execute_result"
    }
   ],
   "source": [
    "clf.score(X_test,y_test)"
   ]
  },
  {
   "cell_type": "markdown",
   "metadata": {},
   "source": [
    "---\n",
    "\n",
    "### Para saber mais...\n",
    "\n",
    "Dataset:\n",
    "https://scikit-learn.org/stable/modules/generated/sklearn.datasets.load_digits.html#sklearn.datasets.load_digits\n",
    "\n",
    "Outros datasets para treinar:\n",
    "https://scikit-learn.org/stable/datasets/index.html\n",
    "\n",
    "Tutorial que usei de base para esta lição:\n",
    "- https://scikit-learn.org/stable/auto_examples/classification/plot_digits_classification.html#sphx-glr-auto-examples-classification-plot-digits-classification-py"
   ]
  },
  {
   "cell_type": "markdown",
   "metadata": {},
   "source": [
    "### Dica de execução\n",
    "\n",
    "Uma forma bem simples de executar este Notebook é usando o Google Colab: https://colab.research.google.com/\n",
    "\n",
    "Se for utilizar sua máquina, lembre de intalar o Python 3 (eu usei o 3.7) e as dependências:\n",
    "- NumPy\n",
    "- Scikit-learn\n",
    "- Jupyter Notebook\n",
    "- Matplotlib\n",
    "\n",
    "Sugiro instalar tanto o python quanto as dependências via [Anaconda](https://www.anaconda.com/distribution/#download-section) (ou [MiniConda](https://conda.io/en/latest/miniconda.html)) criando um Environment."
   ]
  }
 ],
 "metadata": {
  "kernelspec": {
   "display_name": "Python 3",
   "language": "python",
   "name": "python3"
  },
  "language_info": {
   "codemirror_mode": {
    "name": "ipython",
    "version": 3
   },
   "file_extension": ".py",
   "mimetype": "text/x-python",
   "name": "python",
   "nbconvert_exporter": "python",
   "pygments_lexer": "ipython3",
   "version": "3.8.1"
  }
 },
 "nbformat": 4,
 "nbformat_minor": 1
}
